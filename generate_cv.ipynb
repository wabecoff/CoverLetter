{
 "cells": [
  {
   "cell_type": "code",
   "execution_count": 1,
   "id": "ed47543f-eb20-420a-9ae7-e5b3b32d3ed8",
   "metadata": {},
   "outputs": [],
   "source": [
    "from docgen import generate, read_and_fill\n",
    "import openai\n",
    "import os\n",
    "\n",
    "openai.api_key =  'your key'\n",
    "os.environ[\"OPENAI_API_KEY\"] = openai.api_key"
   ]
  },
  {
   "cell_type": "code",
   "execution_count": 2,
   "id": "98ce514e-8186-4d96-957d-bf44bc18e372",
   "metadata": {},
   "outputs": [],
   "source": [
    "test_listings, test_resumes = [], []\n",
    "\n",
    "for i in range(9,12): \n",
    "    with open(f'resumes/resume_{i}.txt', 'r') as file:\n",
    "        resume = file.read()\n",
    "    test_resumes.append(resume)\n",
    "    with open(f'listings/listing_{i}.txt', 'r') as file:\n",
    "        listing = file.read()\n",
    "    test_listings.append(listing)  "
   ]
  },
  {
   "cell_type": "code",
   "execution_count": 3,
   "id": "213623bb-cd3b-4655-b26c-643a4567d967",
   "metadata": {},
   "outputs": [],
   "source": [
    "#choose any of the resumes or listings for generation\n",
    "cur_resume, cur_listing = test_resumes[0], test_listings[0]"
   ]
  },
  {
   "cell_type": "code",
   "execution_count": 4,
   "id": "ce0ed401-9255-42e3-9fd7-c46cf11291e9",
   "metadata": {},
   "outputs": [],
   "source": [
    "import shutil\n",
    "import os\n",
    "\n",
    "def deep_copy_directory(source_dir, destination_dir):\n",
    "    if not os.path.exists(destination_dir):\n",
    "        os.makedirs(destination_dir)\n",
    "    shutil.copytree(source_dir, destination_dir, dirs_exist_ok=True)\n",
    "\n",
    "# Choose a new directory to put the generated document\n",
    "source_directory = 'template'\n",
    "destination_directory = 'generated_letter_source_2'\n",
    "deep_copy_directory(source_directory, destination_directory)"
   ]
  },
  {
   "cell_type": "code",
   "execution_count": 5,
   "id": "13240808-6b22-4f2f-94f0-b07a7583e9b3",
   "metadata": {},
   "outputs": [],
   "source": [
    "destination_folder = destination_directory + '/'\n",
    "generate(cur_listing,cur_resume, output_pth = destination_folder)\n",
    "read_and_fill(cur_listing, cur_resume, output_pth = destination_folder)"
   ]
  },
  {
   "cell_type": "code",
   "execution_count": 6,
   "id": "4bb91fe3-98ae-462c-ab02-3ab7d606c384",
   "metadata": {},
   "outputs": [
    {
     "name": "stdout",
     "output_type": "stream",
     "text": [
      "Requirement already satisfied: pdflatex in /Users/williamshabecoff/.pyenv/versions/3.10.10/lib/python3.10/site-packages (0.1.3)\n",
      "Requirement already satisfied: attrs<19.0,>=18.2 in /Users/williamshabecoff/.pyenv/versions/3.10.10/lib/python3.10/site-packages (from pdflatex) (18.2.0)\n"
     ]
    }
   ],
   "source": [
    "!pip install pdflatex"
   ]
  },
  {
   "cell_type": "code",
   "execution_count": 7,
   "id": "dd215c70-f9b3-40f9-b09d-b82b504f968b",
   "metadata": {},
   "outputs": [
    {
     "name": "stdout",
     "output_type": "stream",
     "text": [
      "This is pdfTeX, Version 3.141592653-2.6-1.40.22 (TeX Live 2021) (preloaded format=pdflatex)\n",
      " restricted \\write18 enabled.\n",
      "entering extended mode\n",
      "(./cover_letter.tex\n",
      "LaTeX2e <2020-10-01> patch level 4\n",
      "L3 programming layer <2021-02-18>\n",
      "(/usr/local/texlive/2021/texmf-dist/tex/latex/base/letter.cls\n",
      "Document Class: letter 2020/03/11 v1.3b Standard LaTeX document class\n",
      "(/usr/local/texlive/2021/texmf-dist/tex/latex/base/size10.clo))\n",
      "(/usr/local/texlive/2021/texmf-dist/tex/latex/base/inputenc.sty)\n",
      "(./TLCcoverletter.sty\n",
      "(/usr/local/texlive/2021/texmf-dist/tex/latex/base/fontenc.sty)\n",
      "(/usr/local/texlive/2021/texmf-dist/tex/latex/sourcesanspro/sourcesanspro.sty\n",
      "(/usr/local/texlive/2021/texmf-dist/tex/generic/iftex/ifxetex.sty\n",
      "(/usr/local/texlive/2021/texmf-dist/tex/generic/iftex/iftex.sty))\n",
      "(/usr/local/texlive/2021/texmf-dist/tex/generic/iftex/ifluatex.sty)\n",
      "(/usr/local/texlive/2021/texmf-dist/tex/latex/xkeyval/xkeyval.sty\n",
      "(/usr/local/texlive/2021/texmf-dist/tex/generic/xkeyval/xkeyval.tex\n",
      "(/usr/local/texlive/2021/texmf-dist/tex/generic/xkeyval/xkvutils.tex\n",
      "(/usr/local/texlive/2021/texmf-dist/tex/generic/xkeyval/keyval.tex))))\n",
      "(/usr/local/texlive/2021/texmf-dist/tex/latex/base/fontenc.sty\n",
      "(/usr/local/texlive/2021/texmf-dist/tex/latex/ly1/ly1enc.def\n",
      "(/usr/local/texlive/2021/texmf-dist/tex/latex/base/ly1enc.dfu))))\n",
      "(/usr/local/texlive/2021/texmf-dist/tex/latex/moresize/moresize.sty)\n",
      "(/usr/local/texlive/2021/texmf-dist/tex/latex/anyfontsize/anyfontsize.sty)\n",
      "(/usr/local/texlive/2021/texmf-dist/tex/latex/csquotes/csquotes.sty\n",
      "(/usr/local/texlive/2021/texmf-dist/tex/latex/etoolbox/etoolbox.sty)\n",
      "(/usr/local/texlive/2021/texmf-dist/tex/latex/csquotes/csquotes.def)\n",
      "(/usr/local/texlive/2021/texmf-dist/tex/latex/csquotes/csquotes.cfg))\n",
      "(/usr/local/texlive/2021/texmf-dist/tex/latex/geometry/geometry.sty\n",
      "(/usr/local/texlive/2021/texmf-dist/tex/generic/iftex/ifvtex.sty))\n",
      "(/usr/local/texlive/2021/texmf-dist/tex/latex/xcolor/xcolor.sty\n",
      "(/usr/local/texlive/2021/texmf-dist/tex/latex/graphics-cfg/color.cfg)\n",
      "(/usr/local/texlive/2021/texmf-dist/tex/latex/graphics-def/pdftex.def))\n",
      "(/usr/local/texlive/2021/texmf-dist/tex/latex/hyperref/hyperref.sty\n",
      "(/usr/local/texlive/2021/texmf-dist/tex/generic/ltxcmds/ltxcmds.sty)\n",
      "(/usr/local/texlive/2021/texmf-dist/tex/generic/pdftexcmds/pdftexcmds.sty\n",
      "(/usr/local/texlive/2021/texmf-dist/tex/generic/infwarerr/infwarerr.sty))\n",
      "(/usr/local/texlive/2021/texmf-dist/tex/generic/kvsetkeys/kvsetkeys.sty)\n",
      "(/usr/local/texlive/2021/texmf-dist/tex/generic/kvdefinekeys/kvdefinekeys.sty)\n",
      "(/usr/local/texlive/2021/texmf-dist/tex/generic/pdfescape/pdfescape.sty)\n",
      "(/usr/local/texlive/2021/texmf-dist/tex/latex/hycolor/hycolor.sty)\n",
      "(/usr/local/texlive/2021/texmf-dist/tex/latex/letltxmacro/letltxmacro.sty)\n",
      "(/usr/local/texlive/2021/texmf-dist/tex/latex/auxhook/auxhook.sty)\n",
      "(/usr/local/texlive/2021/texmf-dist/tex/latex/kvoptions/kvoptions.sty)\n",
      "(/usr/local/texlive/2021/texmf-dist/tex/latex/hyperref/pd1enc.def)\n",
      "(/usr/local/texlive/2021/texmf-dist/tex/latex/hyperref/hyperref-langpatches.def\n",
      ") (/usr/local/texlive/2021/texmf-dist/tex/generic/intcalc/intcalc.sty)\n",
      "(/usr/local/texlive/2021/texmf-dist/tex/generic/etexcmds/etexcmds.sty)\n",
      "(/usr/local/texlive/2021/texmf-dist/tex/latex/hyperref/puenc.def)\n",
      "(/usr/local/texlive/2021/texmf-dist/tex/latex/url/url.sty)\n",
      "(/usr/local/texlive/2021/texmf-dist/tex/generic/bitset/bitset.sty\n",
      "(/usr/local/texlive/2021/texmf-dist/tex/generic/bigintcalc/bigintcalc.sty))\n",
      "(/usr/local/texlive/2021/texmf-dist/tex/latex/base/atbegshi-ltx.sty))\n",
      "(/usr/local/texlive/2021/texmf-dist/tex/latex/hyperref/hpdftex.def\n",
      "(/usr/local/texlive/2021/texmf-dist/tex/latex/base/atveryend-ltx.sty)\n",
      "(/usr/local/texlive/2021/texmf-dist/tex/latex/rerunfilecheck/rerunfilecheck.sty\n",
      "\n",
      "(/usr/local/texlive/2021/texmf-dist/tex/generic/uniquecounter/uniquecounter.sty\n",
      "))) (/usr/local/texlive/2021/texmf-dist/tex/latex/standalone/standalone.sty\n",
      "(/usr/local/texlive/2021/texmf-dist/tex/latex/tools/shellesc.sty)\n",
      "(/usr/local/texlive/2021/texmf-dist/tex/latex/currfile/currfile.sty\n",
      "(/usr/local/texlive/2021/texmf-dist/tex/latex/filehook/filehook.sty\n",
      "(/usr/local/texlive/2021/texmf-dist/tex/latex/filehook/filehook-2020.sty)))\n",
      "(/usr/local/texlive/2021/texmf-dist/tex/latex/gincltex/gincltex.sty\n",
      "(/usr/local/texlive/2021/texmf-dist/tex/latex/svn-prov/svn-prov.sty)\n",
      "(/usr/local/texlive/2021/texmf-dist/tex/latex/adjustbox/adjustbox.sty\n",
      "(/usr/local/texlive/2021/texmf-dist/tex/latex/adjustbox/adjcalc.sty)\n",
      "(/usr/local/texlive/2021/texmf-dist/tex/latex/adjustbox/trimclip.sty\n",
      "(/usr/local/texlive/2021/texmf-dist/tex/latex/graphics/graphicx.sty\n",
      "(/usr/local/texlive/2021/texmf-dist/tex/latex/graphics/graphics.sty\n",
      "(/usr/local/texlive/2021/texmf-dist/tex/latex/graphics/trig.sty)\n",
      "(/usr/local/texlive/2021/texmf-dist/tex/latex/graphics-cfg/graphics.cfg)))\n",
      "(/usr/local/texlive/2021/texmf-dist/tex/latex/collectbox/collectbox.sty)\n",
      "(/usr/local/texlive/2021/texmf-dist/tex/latex/adjustbox/tc-pdftex.def))\n",
      "(/usr/local/texlive/2021/texmf-dist/tex/latex/ifoddpage/ifoddpage.sty)\n",
      "(/usr/local/texlive/2021/texmf-dist/tex/latex/varwidth/varwidth.sty)))\n",
      "(/usr/local/texlive/2021/texmf-dist/tex/latex/filemod/filemod-expmin.sty))\n",
      "(/usr/local/texlive/2021/texmf-dist/tex/latex/import/import.sty)\n",
      "(/usr/local/texlive/2021/texmf-dist/tex/generic/babel/babel.sty\n",
      "(/usr/local/texlive/2021/texmf-dist/tex/generic/babel/babel.def\n",
      "(/usr/local/texlive/2021/texmf-dist/tex/generic/babel/txtbabel.def))\n",
      "(/usr/local/texlive/2021/texmf-dist/tex/generic/babel-english/english.ldf))\n",
      "(/usr/local/texlive/2021/texmf-dist/tex/latex/blindtext/blindtext.sty\n",
      "(/usr/local/texlive/2021/texmf-dist/tex/latex/tools/xspace.sty)))\n",
      "(./_header.tex\n",
      "(/usr/local/texlive/2021/texmf-dist/tex/latex/fancyhdr/fancyhdr.sty))\n",
      "(/usr/local/texlive/2021/texmf-dist/tex/latex/sourcesanspro/T1SourceSansPro-TLF\n",
      ".fd)\n",
      "(/usr/local/texlive/2021/texmf-dist/tex/latex/l3backend/l3backend-pdftex.def)\n",
      "\n",
      "LaTeX Warning: Unused global option(s):\n",
      "    [letter].\n",
      "\n",
      "No file cover_letter.aux.\n",
      "(/usr/local/texlive/2021/texmf-dist/tex/latex/ly1/ly1ptm.fd)\n",
      "*geometry* driver: auto-detecting\n",
      "*geometry* detected driver: pdftex\n",
      "(/usr/local/texlive/2021/texmf-dist/tex/context/base/mkii/supp-pdf.mkii\n",
      "[Loading MPS to PDF converter (version 2006.09.02).]\n",
      ") (/usr/local/texlive/2021/texmf-dist/tex/latex/epstopdf-pkg/epstopdf-base.sty\n",
      "(/usr/local/texlive/2021/texmf-dist/tex/latex/latexconfig/epstopdf-sys.cfg))\n",
      "(/usr/local/texlive/2021/texmf-dist/tex/latex/hyperref/nameref.sty\n",
      "(/usr/local/texlive/2021/texmf-dist/tex/latex/refcount/refcount.sty)\n",
      "(/usr/local/texlive/2021/texmf-dist/tex/generic/gettitlestring/gettitlestring.s\n",
      "ty)) (./sections/opening.tex) (./sections/second.tex) (./sections/closing.tex)\n",
      "(./sections/signoff.tex) [1{/usr/local/texlive/2021/texmf-var/fonts/map/pdftex/\n",
      "updmap/pdftex.map}] (./cover_letter.aux)\n",
      "\n",
      "Package rerunfilecheck Warning: File `cover_letter.out' has changed.\n",
      "(rerunfilecheck)                Rerun to get outlines right\n",
      "(rerunfilecheck)                or use package `bookmark'.\n",
      "\n",
      " ){/usr/local/texlive/2021/texmf-dist/fonts/enc/dvips/sourcesanspro/a_emkxm5.en\n",
      "c}</usr/local/texlive/2021/texmf-dist/fonts/type1/adobe/sourcesanspro/SourceSan\n",
      "sPro-Regular.pfb></usr/local/texlive/2021/texmf-dist/fonts/type1/adobe/sourcesa\n",
      "nspro/SourceSansPro-Semibold.pfb>\n",
      "Output written on cover_letter.pdf (1 page, 121256 bytes).\n",
      "Transcript written on cover_letter.log.\n"
     ]
    }
   ],
   "source": [
    "import subprocess\n",
    "\n",
    "def compile_latex_to_pdf(latex_directory, main_tex_file):\n",
    "    # Change the current working directory to the LaTeX directory\n",
    "    os.chdir(latex_directory)\n",
    "\n",
    "    # Compile the LaTeX file into a PDF using pdflatex\n",
    "    # This command might vary based on LaTeX setup\n",
    "    subprocess.run([\"pdflatex\", main_tex_file])\n",
    "\n",
    "# compiles the latex files.  Output can be found in the latex directory.\n",
    "latex_directory = destination_directory\n",
    "main_tex_file = 'cover_letter.tex'  \n",
    "compile_latex_to_pdf(latex_directory, main_tex_file)"
   ]
  },
  {
   "cell_type": "code",
   "execution_count": null,
   "id": "90ad57dd-4abe-4e36-b212-2e43ed188ac0",
   "metadata": {},
   "outputs": [],
   "source": []
  }
 ],
 "metadata": {
  "kernelspec": {
   "display_name": "python3.10.10",
   "language": "python",
   "name": "python3.10.10"
  },
  "language_info": {
   "codemirror_mode": {
    "name": "ipython",
    "version": 3
   },
   "file_extension": ".py",
   "mimetype": "text/x-python",
   "name": "python",
   "nbconvert_exporter": "python",
   "pygments_lexer": "ipython3",
   "version": "3.10.10"
  }
 },
 "nbformat": 4,
 "nbformat_minor": 5
}
