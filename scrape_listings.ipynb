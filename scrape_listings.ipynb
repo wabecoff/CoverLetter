{
 "cells": [
  {
   "cell_type": "code",
   "execution_count": 1,
   "id": "6d092c28-c5d6-46ee-a4eb-f78fb12744c1",
   "metadata": {},
   "outputs": [],
   "source": [
    "urls = ['https://www.calhr.ca.gov/state-hr-professionals/Pages/3135.aspx', \n",
    "    'https://careersearch.stanford.edu/jobs/bioinformatics-engineer-21599',\n",
    "    'https://www.calcareers.ca.gov/CalHrPublic/Jobs/JobPosting.aspx?JobControlId=404360',\n",
    "    'https://careersearch.stanford.edu/jobs/administrative-services-administrator-23805',\n",
    "    'https://careersearch.stanford.edu/jobs/life-science-technician-21527',\n",
    "    'https://www.calhr.ca.gov/state-hr-professionals/Pages/1931.aspx',\n",
    "    'https://www.calcareers.ca.gov/CalHrPublic/Jobs/JobPosting.aspx?JobControlId=396417',\n",
    "    'https://www.calcareers.ca.gov/CalHrPublic/Jobs/JobPosting.aspx?JobControlId=405427',\n",
    "    'https://www.calcareers.ca.gov/CalHrPublic/Jobs/JobPosting.aspx?JobControlId=406842',\n",
    "    'https://www.adzuna.com/details/4466885894?utm_campaign=google_jobs_apply&utm_source=google_jobs_apply&utm_medium=organic',\n",
    "    'https://www.adzuna.com/details/4367485818?se=pqaQwyWZ7hGUiTcGvTpXvQ&title=Special_Agent%3A_%3Cstrong%3EFinance%3C%2Fstrong%3E_Background&v=73B8734EB39C9941633C2AB54A43E1FA61B4AAB8',\n",
    "    'https://www.adzuna.com/details/4475377896?se=yAlH5yWZ7hGUiTcGvTpXvQ&title=%3Cstrong%3EWelder%3C%2Fstrong%3E&v=2F80221F2BD7FA3D1EE609A9E3FFA72C38EA01E8']"
   ]
  },
  {
   "cell_type": "code",
   "execution_count": 5,
   "id": "86239e48-7e0c-4731-9d9b-b02d12dd4cfa",
   "metadata": {},
   "outputs": [
    {
     "name": "stdout",
     "output_type": "stream",
     "text": [
      "Collecting openai\n",
      "  Downloading openai-1.3.8-py3-none-any.whl (221 kB)\n",
      "\u001b[2K     \u001b[90m━━━━━━━━━━━━━━━━━━━━━━━━━━━━━━━━━━━━━━━\u001b[0m \u001b[32m221.5/221.5 kB\u001b[0m \u001b[31m1.7 MB/s\u001b[0m eta \u001b[36m0:00:00\u001b[0ma \u001b[36m0:00:01\u001b[0m\n",
      "\u001b[?25hCollecting httpx<1,>=0.23.0\n",
      "  Downloading httpx-0.25.2-py3-none-any.whl (74 kB)\n",
      "\u001b[2K     \u001b[90m━━━━━━━━━━━━━━━━━━━━━━━━━━━━━━━━━━━━━━━━\u001b[0m \u001b[32m75.0/75.0 kB\u001b[0m \u001b[31m4.8 MB/s\u001b[0m eta \u001b[36m0:00:00\u001b[0m\n",
      "\u001b[?25hCollecting anyio<5,>=3.5.0\n",
      "  Downloading anyio-4.1.0-py3-none-any.whl (83 kB)\n",
      "\u001b[2K     \u001b[90m━━━━━━━━━━━━━━━━━━━━━━━━━━━━━━━━━━━━━━━━\u001b[0m \u001b[32m83.9/83.9 kB\u001b[0m \u001b[31m5.4 MB/s\u001b[0m eta \u001b[36m0:00:00\u001b[0m\n",
      "\u001b[?25hRequirement already satisfied: tqdm>4 in /Users/williamshabecoff/.pyenv/versions/3.10.10/lib/python3.10/site-packages (from openai) (4.66.1)\n",
      "Collecting distro<2,>=1.7.0\n",
      "  Downloading distro-1.8.0-py3-none-any.whl (20 kB)\n",
      "Collecting sniffio\n",
      "  Using cached sniffio-1.3.0-py3-none-any.whl (10 kB)\n",
      "Collecting pydantic<3,>=1.9.0\n",
      "  Downloading pydantic-2.5.2-py3-none-any.whl (381 kB)\n",
      "\u001b[2K     \u001b[90m━━━━━━━━━━━━━━━━━━━━━━━━━━━━━━━━━━━━━━\u001b[0m \u001b[32m381.9/381.9 kB\u001b[0m \u001b[31m13.2 MB/s\u001b[0m eta \u001b[36m0:00:00\u001b[0m\n",
      "\u001b[?25hRequirement already satisfied: typing-extensions<5,>=4.5 in /Users/williamshabecoff/.pyenv/versions/3.10.10/lib/python3.10/site-packages (from openai) (4.8.0)\n",
      "Requirement already satisfied: exceptiongroup>=1.0.2 in /Users/williamshabecoff/.pyenv/versions/3.10.10/lib/python3.10/site-packages (from anyio<5,>=3.5.0->openai) (1.1.3)\n",
      "Requirement already satisfied: idna>=2.8 in /Users/williamshabecoff/.pyenv/versions/3.10.10/lib/python3.10/site-packages (from anyio<5,>=3.5.0->openai) (3.4)\n",
      "Requirement already satisfied: certifi in /Users/williamshabecoff/.pyenv/versions/3.10.10/lib/python3.10/site-packages (from httpx<1,>=0.23.0->openai) (2023.7.22)\n",
      "Collecting httpcore==1.*\n",
      "  Downloading httpcore-1.0.2-py3-none-any.whl (76 kB)\n",
      "\u001b[2K     \u001b[90m━━━━━━━━━━━━━━━━━━━━━━━━━━━━━━━━━━━━━━━━\u001b[0m \u001b[32m76.9/76.9 kB\u001b[0m \u001b[31m6.8 MB/s\u001b[0m eta \u001b[36m0:00:00\u001b[0m\n",
      "\u001b[?25hCollecting h11<0.15,>=0.13\n",
      "  Downloading h11-0.14.0-py3-none-any.whl (58 kB)\n",
      "\u001b[2K     \u001b[90m━━━━━━━━━━━━━━━━━━━━━━━━━━━━━━━━━━━━━━━━\u001b[0m \u001b[32m58.3/58.3 kB\u001b[0m \u001b[31m7.1 MB/s\u001b[0m eta \u001b[36m0:00:00\u001b[0m\n",
      "\u001b[?25hCollecting pydantic-core==2.14.5\n",
      "  Downloading pydantic_core-2.14.5-cp310-cp310-macosx_11_0_arm64.whl (1.7 MB)\n",
      "\u001b[2K     \u001b[90m━━━━━━━━━━━━━━━━━━━━━━━━━━━━━━━━━━━━━━━━\u001b[0m \u001b[32m1.7/1.7 MB\u001b[0m \u001b[31m17.2 MB/s\u001b[0m eta \u001b[36m0:00:00\u001b[0ma \u001b[36m0:00:01\u001b[0m\n",
      "\u001b[?25hCollecting annotated-types>=0.4.0\n",
      "  Downloading annotated_types-0.6.0-py3-none-any.whl (12 kB)\n",
      "Installing collected packages: sniffio, pydantic-core, h11, distro, annotated-types, pydantic, httpcore, anyio, httpx, openai\n",
      "Successfully installed annotated-types-0.6.0 anyio-4.1.0 distro-1.8.0 h11-0.14.0 httpcore-1.0.2 httpx-0.25.2 openai-1.3.8 pydantic-2.5.2 pydantic-core-2.14.5 sniffio-1.3.0\n",
      "\n",
      "\u001b[1m[\u001b[0m\u001b[34;49mnotice\u001b[0m\u001b[1;39;49m]\u001b[0m\u001b[39;49m A new release of pip available: \u001b[0m\u001b[31;49m22.3.1\u001b[0m\u001b[39;49m -> \u001b[0m\u001b[32;49m23.3.1\u001b[0m\n",
      "\u001b[1m[\u001b[0m\u001b[34;49mnotice\u001b[0m\u001b[1;39;49m]\u001b[0m\u001b[39;49m To update, run: \u001b[0m\u001b[32;49mpip install --upgrade pip\u001b[0m\n",
      "Requirement already satisfied: bs4 in /Users/williamshabecoff/.pyenv/versions/3.10.10/lib/python3.10/site-packages (0.0.1)\n",
      "Requirement already satisfied: beautifulsoup4 in /Users/williamshabecoff/.pyenv/versions/3.10.10/lib/python3.10/site-packages (from bs4) (4.12.2)\n",
      "Requirement already satisfied: soupsieve>1.2 in /Users/williamshabecoff/.pyenv/versions/3.10.10/lib/python3.10/site-packages (from beautifulsoup4->bs4) (2.5)\n",
      "\n",
      "\u001b[1m[\u001b[0m\u001b[34;49mnotice\u001b[0m\u001b[1;39;49m]\u001b[0m\u001b[39;49m A new release of pip available: \u001b[0m\u001b[31;49m22.3.1\u001b[0m\u001b[39;49m -> \u001b[0m\u001b[32;49m23.3.1\u001b[0m\n",
      "\u001b[1m[\u001b[0m\u001b[34;49mnotice\u001b[0m\u001b[1;39;49m]\u001b[0m\u001b[39;49m To update, run: \u001b[0m\u001b[32;49mpip install --upgrade pip\u001b[0m\n"
     ]
    }
   ],
   "source": [
    "!pip install openai\n",
    "!pip install bs4"
   ]
  },
  {
   "cell_type": "code",
   "execution_count": 2,
   "id": "cffde899-e789-468f-95c4-45d569a7732c",
   "metadata": {},
   "outputs": [],
   "source": [
    "import openai\n",
    "import os\n",
    "\n",
    "openai.api_key =  'your key'\n",
    "os.environ[\"OPENAI_API_KEY\"] = openai.api_key"
   ]
  },
  {
   "cell_type": "code",
   "execution_count": 3,
   "id": "5ecc635d-1e0b-42c8-9df6-98beb661d24f",
   "metadata": {},
   "outputs": [],
   "source": [
    "from getListing import get_listing"
   ]
  },
  {
   "cell_type": "code",
   "execution_count": 4,
   "id": "01add452-7379-426e-9538-b32c4a68af4c",
   "metadata": {},
   "outputs": [],
   "source": [
    "for i, url in enumerate(urls):\n",
    "    cur_listing = get_listing(url)\n",
    "    \n",
    "    filename = f'listings/listing_{i}.txt'  # Create the filename with formatting\n",
    "    with open(filename, 'w') as file:\n",
    "        file.write(cur_listing)"
   ]
  },
  {
   "cell_type": "code",
   "execution_count": 7,
   "id": "40a0ca9a-9844-4113-9cb0-a43cd3099dd8",
   "metadata": {},
   "outputs": [
    {
     "name": "stdout",
     "output_type": "stream",
     "text": [
      "The Department of Medicine, Division of Cardiovascular Medicine at Stanford University is seeking a talented Bioinformatics Engineer to join the Bioinformatics Core (BIC) of the Molecular Transducers of Physical Activity Consortium (MoTrPAC). As part of this groundbreaking national research consortium, you will help unravel the molecular mechanisms underlying the benefits of physical activity. Under the supervision of co-PIs Dr. Euan Ashley and Dr. Matthew Wheeler, you will play a crucial role in shaping the future of personalized exercise science and public health. Dr. Euan Ashley's research interests focus on the application of genomics and other omics data to improve clinical care, with an emphasis on cardiovascular disease and personalized medicine. Dr. Matthew Wheeler's research centers on the integration of large-scale molecular and clinical data to understand the genetic basis of cardiovascular diseases and to develop novel therapeutic strategies.\n",
      "\n",
      "By joining our team, your proficiency in applying advanced statistical methodologies, such as multivariate analysis, machine learning, and Bayesian approaches, will be essential for uncovering novel insights and driving innovation in our research efforts. Your strong statistical background and expertise in analyzing large biological datasets. experience in handling diverse omics data will contribute significantly to our understanding of complex biological systems and the development of personalized medicine. You will also contribute to the analysis, execution, and development of pipelines and bioinformatic tools for various omics data generated within MoTrPAC. This innovative project integrates large volumes of clinical and densely time-sampled molecular data, pushing the boundaries of biomedical data analytics. Our portal (https://motrpac-data.org) will push the boundaries of biomedical data analytics to provide insight into the basic and translational science of exercise. Working alongside our multidisciplinary team, you will be at the forefront of understanding how physical activity preserves and improves health, ultimately making a lasting impact on human well-being.\n",
      "\n",
      "Responsibilities:\n",
      "As a Bioinformatics Engineer II, you will contribute to the analysis, execution, and development of pipelines and bioinformatic tools for various omics data generated within the MoTrPAC project. Your primary responsibilities will include:\n",
      "\n",
      "Qualifications:\n",
      "To be successful in this role, you should possess an advanced degree (Ph.D. or M.S.) in a field such as statistics, biomedical informatics, engineering, or computer science along with a minimum of two years of relevant professional experience. They should have expertise in the analysis, execution, and development of pipelines and bioinformatic tools for various omics data and be proficient in programming languages like Python and/or R, as well as Linux bash scripting. Familiarity with pipeline languages, container systems, code management platforms, and systems biology approaches for data integration is also essential. Candidates should demonstrate experience in large-scale data analysis, biological domain knowledge, bioinformatics, and software development team-based projects. Additionally, they should be willing to work in a highly collaborative environment, be able to adapt quickly, possess strong communication skills, and have the capacity to work independently.\n",
      "\n",
      "Why Join Us?\n",
      "If you are a passionate and dedicated professional with the required qualifications and a strong interest in advancing scientific research, we encourage you to apply for this exciting opportunity. Join us in unraveling the mysteries of physical activity and making a lasting impact on human health. A complete application will include a cover letter.\n",
      "\n",
      "Duties include:\n",
      "The job duties listed are typical examples of work performed by positions in this job classification and are not designed to contain or be interpreted as a comprehensive inventory of all duties, tasks, and responsibilities. Specific duties and responsibilities may vary depending on department or program needs without changing the general nature and scope of the job or level of responsibility. Employees may also perform other duties as assigned. \n",
      "\n",
      "DESIRED QUALIFICATIONS: \n",
      "EDUCATION & EXPERIENCE (REQUIRED): \n",
      "KNOWLEDGE, SKILLS AND ABILITIES (REQUIRED): \n",
      "PHYSICAL REQUIREMENTS: Consistent with its obligations under the law, the University will provide reasonable accommodation to any employee with a disability who requires accommodation to perform the essential functions of his or her job. \n",
      "WORKING CONDITIONS: \n",
      "WORKING STANDARDS: \n",
      "\n",
      "The expected pay range for this position is $84,000 to $126,000 per annum/hour. Stanford University provides pay ranges representing its good faith estimate of what the university reasonably expects to pay for a position. The pay offered to a selected candidate will be determined based on factors such as (but not limited to) the scope and responsibilities of the position, the qualifications of the selected candidate, departmental budget availability, internal equity, geographic location and external market pay for comparable jobs.\n"
     ]
    }
   ],
   "source": [
    "print(cur_listing)"
   ]
  }
 ],
 "metadata": {
  "kernelspec": {
   "display_name": "python3.10.10",
   "language": "python",
   "name": "python3.10.10"
  },
  "language_info": {
   "codemirror_mode": {
    "name": "ipython",
    "version": 3
   },
   "file_extension": ".py",
   "mimetype": "text/x-python",
   "name": "python",
   "nbconvert_exporter": "python",
   "pygments_lexer": "ipython3",
   "version": "3.10.10"
  }
 },
 "nbformat": 4,
 "nbformat_minor": 5
}
