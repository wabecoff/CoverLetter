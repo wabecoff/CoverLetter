{
 "cells": [
  {
   "cell_type": "code",
   "execution_count": 1,
   "id": "e0354c4b-1913-40ea-b615-c782cc9b47a8",
   "metadata": {},
   "outputs": [],
   "source": [
    "from llm import query_llm, annotate_examples\n",
    "from scoring import score_report"
   ]
  },
  {
   "cell_type": "code",
   "execution_count": 2,
   "id": "52acf7ab-73c3-42be-a1b3-208e7a5f9224",
   "metadata": {},
   "outputs": [],
   "source": [
    "import openai\n",
    "import os\n",
    "\n",
    "openai.api_key =  'your key'\n",
    "os.environ[\"OPENAI_API_KEY\"] = openai.api_key"
   ]
  },
  {
   "cell_type": "code",
   "execution_count": 4,
   "id": "5ed011d2-0221-4854-9428-d88fb5f31199",
   "metadata": {},
   "outputs": [],
   "source": [
    "listings, resumes = [], []\n",
    "\n",
    "for i in range(8): \n",
    "    with open(f'resumes/resume_{i}.txt', 'r') as file:\n",
    "        resume = file.read()\n",
    "    resumes.append(resume)\n",
    "    with open(f'listings/listing_{i}.txt', 'r') as file:\n",
    "        listing = file.read()\n",
    "    listings.append(listing) \n",
    "\n",
    "test_listings, test_resumes = [], []\n",
    "\n",
    "for i in range(8,12): \n",
    "    with open(f'resumes/resume_{i}.txt', 'r') as file:\n",
    "        resume = file.read()\n",
    "    test_resumes.append(resume)\n",
    "    with open(f'listings/listing_{i}.txt', 'r') as file:\n",
    "        listing = file.read()\n",
    "    test_listings.append(listing)  "
   ]
  },
  {
   "cell_type": "code",
   "execution_count": 6,
   "id": "7ff571e7-48db-419d-97ca-f58799ec89f3",
   "metadata": {},
   "outputs": [],
   "source": [
    "p1_prompt = '''Use the resume to draft the first paragraph of a cover letter.  In this first paragraph of your letter, mention the job title for which the applicant is applying. Explain the applicant’s specific interest in the role and company so the reader knows the applicant has done research and has genuine interest. Briefly state the main experience or qualification that makes the applicant a good fit. The first section of the cover letter is the first impression the reader will have of the applicant, so it is important to appeal to that person quickly and succinctly. Feel free to use the following format:\n",
    "\n",
    "I'm excited to apply for the position [position] at [company]; that I found at [source]. \n",
    "I believe my skills in [skills] provide a significant advantage for [reason]. As a longtime fan of your products, I'm thrilled at the opportunity to bring my unique style and passion for [example passion] to the company.'''\n",
    "\n",
    "p2_prompt = '''Use the resume to draft the second paragraph of a cover letter.  The second paragraph should be a brief overview of the applicants background as is relevant to the position. Here, you should include key achievements, skills and specialties that make the applicant particularly suited to perform well in the position. Focus on one or two and provide specific details about the applicants success including measurable impacts the applicant made made.  Feel free to use the following format:\n",
    "\n",
    "As the [previous role] at [previous employer], I was a [previous role description] and was responsible for [responsibilities]. Before that, I worked in [previous role] for [previous employer]. At [previous employer], I developed [previous project], [previous project description], which led to [benefit of previous product]. '''\n",
    "\n",
    "p3_prompt = '''This paragraph should focus on another key achievement or skill that is relevant to the position. Again, focus on key points that demonstrate the skills and qualifications outlined in the job description.  Feel free to use the following format: \n",
    "\n",
    "Achieving ambitious [area of expertise] goals is always a top priority, and I am always looking out for the best interests of the company. I enjoy delivering [some relevant deliverable to past experience and job listing] and focusing on the strengths of an organization. My [area of expertise] skills at [former employer] enabled the company to experience new levels of success and a [metric of increased success]. I am never satisfied with the status quo, and I believe that a company should continually look for ways to improve and [relevant action for success in field].'''\n",
    "\n",
    "ps_prompt = '''This paragraph summarizes the reasons the applicant is applying for the role and why the applicant would be a great fit. Keep this paragraph brief and explain that the applicant is looking forward to hearing from the employer with the next steps. Feel free to use the following format: \n",
    "\n",
    "Thank you for your time and consideration. I'm looking forward to learning more details about the [position] at [company]. Growth is essential to my continued success, and I'm excited for the chance to be a part of [company]'s team. My proven track record and [company]'s quality [what the company does or makes] are a winning combination for increasing [relevant success metric for company].'''"
   ]
  },
  {
   "cell_type": "code",
   "execution_count": 7,
   "id": "49451e8f-4a25-4563-9688-7b1f0604aca0",
   "metadata": {},
   "outputs": [],
   "source": [
    "system_prompt = '''You are a cover letter writing assistant.  Only provide writing specifically requested.  Do not speak to the user - just provide the needed writing.  Be truthful and use details from the user’s resume to create an honest cover letter. '''"
   ]
  },
  {
   "cell_type": "code",
   "execution_count": 8,
   "id": "2066220d-b165-410f-98a1-e9806f9a50d6",
   "metadata": {},
   "outputs": [],
   "source": [
    "fewshot_examples = annotate_examples(listings, resumes, p1_prompt, system_prompt, score_report, top_k = 5)"
   ]
  },
  {
   "cell_type": "code",
   "execution_count": 12,
   "id": "a6b3ec4c-2afd-43e7-9a2d-60d687b720b5",
   "metadata": {},
   "outputs": [],
   "source": [
    "hist = fewshot_examples[0]"
   ]
  },
  {
   "cell_type": "code",
   "execution_count": 10,
   "id": "54bce0ec-bfb8-4bd0-a5c6-1dda53b749fe",
   "metadata": {},
   "outputs": [],
   "source": [
    "import json \n",
    "\n",
    "with open('prompt_1_example.json', 'w') as file:\n",
    "    json.dump(hist, file, indent=4)"
   ]
  },
  {
   "cell_type": "code",
   "execution_count": 11,
   "id": "4f7f32fc-d172-4361-a117-d320e831aca6",
   "metadata": {},
   "outputs": [],
   "source": [
    "with open('prompt_1_example.json', 'r') as file:\n",
    "    loaded_history = json.load(file)"
   ]
  },
  {
   "cell_type": "code",
   "execution_count": 107,
   "id": "6b93eb04-02d2-4b0d-9d28-a14ded05c53c",
   "metadata": {},
   "outputs": [
    {
     "name": "stdout",
     "output_type": "stream",
     "text": [
      "300\n",
      "275\n",
      "245\n",
      "320\n",
      "300\n",
      "295\n",
      "350\n",
      "365\n",
      "370\n",
      "300\n",
      "310\n",
      "322\n"
     ]
    }
   ],
   "source": [
    "scores = []\n",
    "for l, r in zip(test_listings, test_resumes):\n",
    "    ans, history = query_llm(l, r, ps_prompt, system_prompt)\n",
    "    for i in range(3):\n",
    "        cur_score = score_report(ans, l, r, verbose = False)\n",
    "        print(cur_score)\n",
    "        scores.append(cur_score)"
   ]
  },
  {
   "cell_type": "code",
   "execution_count": 111,
   "id": "c87d86ca-311a-4d2c-bcf6-6217ee1510d7",
   "metadata": {},
   "outputs": [
    {
     "data": {
      "text/plain": [
       "312"
      ]
     },
     "execution_count": 111,
     "metadata": {},
     "output_type": "execute_result"
    }
   ],
   "source": [
    "zero_shot = sum(scores) // len(scores)\n",
    "zero_shot"
   ]
  },
  {
   "cell_type": "code",
   "execution_count": 112,
   "id": "b0796f8f-7e92-432e-b30d-bd762752c3ed",
   "metadata": {},
   "outputs": [
    {
     "name": "stdout",
     "output_type": "stream",
     "text": [
      "295\n",
      "345\n",
      "350\n",
      "355\n",
      "375\n",
      "355\n",
      "370\n",
      "365\n",
      "377\n",
      "377\n",
      "375\n",
      "375\n"
     ]
    }
   ],
   "source": [
    "scores = []\n",
    "for l, r in zip(test_listings, test_resumes):\n",
    "    ans, history = query_llm(l, r, ps_prompt, system_prompt, hist)\n",
    "    for i in range(3):\n",
    "        cur_score = score_report(ans, l, r, verbose = False)\n",
    "        print(cur_score)\n",
    "        scores.append(cur_score)"
   ]
  },
  {
   "cell_type": "code",
   "execution_count": 113,
   "id": "b52136cf-15e2-4876-a9c4-f74273a9ea63",
   "metadata": {},
   "outputs": [
    {
     "data": {
      "text/plain": [
       "359"
      ]
     },
     "execution_count": 113,
     "metadata": {},
     "output_type": "execute_result"
    }
   ],
   "source": [
    "one_shot = sum(scores) // len(scores)\n",
    "one_shot"
   ]
  }
 ],
 "metadata": {
  "kernelspec": {
   "display_name": "python3.10.10",
   "language": "python",
   "name": "python3.10.10"
  },
  "language_info": {
   "codemirror_mode": {
    "name": "ipython",
    "version": 3
   },
   "file_extension": ".py",
   "mimetype": "text/x-python",
   "name": "python",
   "nbconvert_exporter": "python",
   "pygments_lexer": "ipython3",
   "version": "3.10.10"
  }
 },
 "nbformat": 4,
 "nbformat_minor": 5
}
